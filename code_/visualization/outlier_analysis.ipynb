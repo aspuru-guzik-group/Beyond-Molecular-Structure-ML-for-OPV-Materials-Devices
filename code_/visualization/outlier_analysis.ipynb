{
 "cells": [
  {
   "cell_type": "code",
   "execution_count": 30,
   "id": "initial_id",
   "metadata": {
    "collapsed": true,
    "ExecuteTime": {
     "end_time": "2023-12-18T22:21:50.284649Z",
     "start_time": "2023-12-18T22:21:50.279242Z"
    }
   },
   "outputs": [],
   "source": [
    "import pandas as pd\n",
    "import pickle\n",
    "import seaborn as sns\n",
    "\n",
    "from functools import reduce\n",
    "from itertools import product\n",
    "from pathlib import Path"
   ]
  },
  {
   "cell_type": "code",
   "execution_count": 89,
   "outputs": [],
   "source": [
    "# Load dataset\n",
    "with open('../../datasets/Min_2020_n558/cleaned_dataset.pkl', 'rb') as f:\n",
    "    clean_dataset = pickle.load(f)\n",
    "    clean_dataset.reset_index(drop=True, inplace=True)\n",
    "\n",
    "# Root results directory\n",
    "results_root = Path(\"../../results/target_PCE\")\n",
    "\n",
    "# Enumerate combinations\n",
    "representations = [\"ECFP\", \"mordred\"]\n",
    "# filters = [\"device architecture\"]\n",
    "models = [\"HGB\",\n",
    "          \"NGB\",\n",
    "          # \"NN\",\n",
    "          \"RF\"]"
   ],
   "metadata": {
    "collapsed": false,
    "ExecuteTime": {
     "end_time": "2023-12-18T23:00:37.948565Z",
     "start_time": "2023-12-18T23:00:37.744709Z"
    }
   },
   "id": "a38673a76dcf7798"
  },
  {
   "cell_type": "code",
   "execution_count": 91,
   "outputs": [],
   "source": [
    "# Filtering function\n",
    "def detect_outliers(true: pd.DataFrame, pred: pd.DataFrame, threshold):\n",
    "    diff = abs(pred.sub(true[\"calculated PCE (%)\"], axis=0))\n",
    "    mask = (diff > threshold).any(axis=1)\n",
    "    outliers = pred[mask]\n",
    "    return outliers\n",
    "\n",
    "# Define a function to perform consecutive merges\n",
    "def merge_all_dataframes(dataframes):\n",
    "    merged_df = dataframes[0]\n",
    "    for df in dataframes[1:]:\n",
    "        merged_df = pd.merge(merged_df, df, left_index=True, right_index=True, how=\"inner\")\n",
    "        \n",
    "    merged_df = merged_df.loc[:,~merged_df.columns.duplicated()]\n",
    "    return merged_df\n",
    "\n",
    "def get_common_outliers(threshold) -> list[float]:\n",
    "    outliers_list = []\n",
    "    combinations = list(product(representations, models))\n",
    "    for combination in combinations:\n",
    "        representation, model = combination\n",
    "        # print(f\"Representation: {representation}, Model: {model}\")\n",
    "        \n",
    "        # Load predictions\n",
    "        predictions = pd.read_csv(results_root / f\"features_{representation}-device architecture\" / f\"{model}_predictions.csv\")\n",
    "        predictions.reset_index(drop=True, inplace=True)\n",
    "        predictions[\"calculated_PCE\"] = clean_dataset[\"calculated PCE (%)\"]\n",
    "        # print(predictions)\n",
    "        \n",
    "        for seed in [\"6\", \"13\", \"42\", \"69\", \"420\", \"1234567890\", \"473219\"]:\n",
    "            predictions = predictions.rename(columns={seed: f\"{seed}_{representation}_{model}\"})\n",
    "        \n",
    "        # Detect outliers\n",
    "        outliers = detect_outliers(clean_dataset, predictions, threshold)\n",
    "        # print(f\"Representation: {representation}\\t\\tModel: {model}\\t\\tOutliers: {len(outliers)}\")\n",
    "        # print(outliers.head())\n",
    "        outliers_list.append(outliers)\n",
    "    \n",
    "    # Find common outliers among all combinations\n",
    "    common_outliers = merge_all_dataframes(outliers_list)\n",
    "    # print(f\"Common outliers: {len(common_outliers)}\")\n",
    "    # print(common_outliers[\"calculated_PCE_x\"])\n",
    "    return common_outliers[\"calculated_PCE_x\"].tolist()"
   ],
   "metadata": {
    "collapsed": false,
    "ExecuteTime": {
     "end_time": "2023-12-18T23:05:36.617332Z",
     "start_time": "2023-12-18T23:05:36.603851Z"
    }
   },
   "id": "272576fdb8fd2f7d"
  },
  {
   "cell_type": "code",
   "execution_count": 94,
   "outputs": [
    {
     "name": "stdout",
     "output_type": "stream",
     "text": [
      "Threshold: 2\t\tCommon outliers: 126\n",
      "Threshold: 3\t\tCommon outliers: 57\n",
      "Threshold: 4\t\tCommon outliers: 21\n",
      "Threshold: 5\t\tCommon outliers: 13\n",
      "          2          3          4          5\n",
      "0  7.822311   3.841153   3.841153  13.178127\n",
      "1  8.360029  11.084802  13.178127   3.121229\n",
      "2  3.841153  13.178127   3.121229   2.279024\n",
      "3  5.901264  12.790932   2.279024   1.805760\n",
      "4  4.928609  12.858720   4.936456  15.707252\n"
     ]
    },
    {
     "name": "stderr",
     "output_type": "stream",
     "text": [
      "/var/folders/p_/9m627jw57n5f43krvf946rdw0000gn/T/ipykernel_53294/1864137732.py:5: UserWarning: Boolean Series key will be reindexed to match DataFrame index.\n",
      "  outliers = pred[mask]\n",
      "/var/folders/p_/9m627jw57n5f43krvf946rdw0000gn/T/ipykernel_53294/1864137732.py:5: UserWarning: Boolean Series key will be reindexed to match DataFrame index.\n",
      "  outliers = pred[mask]\n",
      "/var/folders/p_/9m627jw57n5f43krvf946rdw0000gn/T/ipykernel_53294/1864137732.py:5: UserWarning: Boolean Series key will be reindexed to match DataFrame index.\n",
      "  outliers = pred[mask]\n",
      "/var/folders/p_/9m627jw57n5f43krvf946rdw0000gn/T/ipykernel_53294/1864137732.py:5: UserWarning: Boolean Series key will be reindexed to match DataFrame index.\n",
      "  outliers = pred[mask]\n",
      "/var/folders/p_/9m627jw57n5f43krvf946rdw0000gn/T/ipykernel_53294/1864137732.py:12: FutureWarning: Passing 'suffixes' which cause duplicate columns {'calculated_PCE_x', '473129_x'} in the result is deprecated and will raise a MergeError in a future version.\n",
      "  merged_df = pd.merge(merged_df, df, left_index=True, right_index=True, how=\"inner\")\n",
      "/var/folders/p_/9m627jw57n5f43krvf946rdw0000gn/T/ipykernel_53294/1864137732.py:12: FutureWarning: Passing 'suffixes' which cause duplicate columns {'calculated_PCE_x', '473129_x'} in the result is deprecated and will raise a MergeError in a future version.\n",
      "  merged_df = pd.merge(merged_df, df, left_index=True, right_index=True, how=\"inner\")\n",
      "/var/folders/p_/9m627jw57n5f43krvf946rdw0000gn/T/ipykernel_53294/1864137732.py:5: UserWarning: Boolean Series key will be reindexed to match DataFrame index.\n",
      "  outliers = pred[mask]\n",
      "/var/folders/p_/9m627jw57n5f43krvf946rdw0000gn/T/ipykernel_53294/1864137732.py:5: UserWarning: Boolean Series key will be reindexed to match DataFrame index.\n",
      "  outliers = pred[mask]\n",
      "/var/folders/p_/9m627jw57n5f43krvf946rdw0000gn/T/ipykernel_53294/1864137732.py:5: UserWarning: Boolean Series key will be reindexed to match DataFrame index.\n",
      "  outliers = pred[mask]\n",
      "/var/folders/p_/9m627jw57n5f43krvf946rdw0000gn/T/ipykernel_53294/1864137732.py:5: UserWarning: Boolean Series key will be reindexed to match DataFrame index.\n",
      "  outliers = pred[mask]\n",
      "/var/folders/p_/9m627jw57n5f43krvf946rdw0000gn/T/ipykernel_53294/1864137732.py:12: FutureWarning: Passing 'suffixes' which cause duplicate columns {'calculated_PCE_x', '473129_x'} in the result is deprecated and will raise a MergeError in a future version.\n",
      "  merged_df = pd.merge(merged_df, df, left_index=True, right_index=True, how=\"inner\")\n",
      "/var/folders/p_/9m627jw57n5f43krvf946rdw0000gn/T/ipykernel_53294/1864137732.py:12: FutureWarning: Passing 'suffixes' which cause duplicate columns {'calculated_PCE_x', '473129_x'} in the result is deprecated and will raise a MergeError in a future version.\n",
      "  merged_df = pd.merge(merged_df, df, left_index=True, right_index=True, how=\"inner\")\n",
      "/var/folders/p_/9m627jw57n5f43krvf946rdw0000gn/T/ipykernel_53294/1864137732.py:5: UserWarning: Boolean Series key will be reindexed to match DataFrame index.\n",
      "  outliers = pred[mask]\n",
      "/var/folders/p_/9m627jw57n5f43krvf946rdw0000gn/T/ipykernel_53294/1864137732.py:5: UserWarning: Boolean Series key will be reindexed to match DataFrame index.\n",
      "  outliers = pred[mask]\n",
      "/var/folders/p_/9m627jw57n5f43krvf946rdw0000gn/T/ipykernel_53294/1864137732.py:5: UserWarning: Boolean Series key will be reindexed to match DataFrame index.\n",
      "  outliers = pred[mask]\n",
      "/var/folders/p_/9m627jw57n5f43krvf946rdw0000gn/T/ipykernel_53294/1864137732.py:5: UserWarning: Boolean Series key will be reindexed to match DataFrame index.\n",
      "  outliers = pred[mask]\n",
      "/var/folders/p_/9m627jw57n5f43krvf946rdw0000gn/T/ipykernel_53294/1864137732.py:12: FutureWarning: Passing 'suffixes' which cause duplicate columns {'calculated_PCE_x', '473129_x'} in the result is deprecated and will raise a MergeError in a future version.\n",
      "  merged_df = pd.merge(merged_df, df, left_index=True, right_index=True, how=\"inner\")\n",
      "/var/folders/p_/9m627jw57n5f43krvf946rdw0000gn/T/ipykernel_53294/1864137732.py:12: FutureWarning: Passing 'suffixes' which cause duplicate columns {'calculated_PCE_x', '473129_x'} in the result is deprecated and will raise a MergeError in a future version.\n",
      "  merged_df = pd.merge(merged_df, df, left_index=True, right_index=True, how=\"inner\")\n",
      "/var/folders/p_/9m627jw57n5f43krvf946rdw0000gn/T/ipykernel_53294/1864137732.py:5: UserWarning: Boolean Series key will be reindexed to match DataFrame index.\n",
      "  outliers = pred[mask]\n",
      "/var/folders/p_/9m627jw57n5f43krvf946rdw0000gn/T/ipykernel_53294/1864137732.py:5: UserWarning: Boolean Series key will be reindexed to match DataFrame index.\n",
      "  outliers = pred[mask]\n",
      "/var/folders/p_/9m627jw57n5f43krvf946rdw0000gn/T/ipykernel_53294/1864137732.py:5: UserWarning: Boolean Series key will be reindexed to match DataFrame index.\n",
      "  outliers = pred[mask]\n",
      "/var/folders/p_/9m627jw57n5f43krvf946rdw0000gn/T/ipykernel_53294/1864137732.py:5: UserWarning: Boolean Series key will be reindexed to match DataFrame index.\n",
      "  outliers = pred[mask]\n",
      "/var/folders/p_/9m627jw57n5f43krvf946rdw0000gn/T/ipykernel_53294/1864137732.py:12: FutureWarning: Passing 'suffixes' which cause duplicate columns {'calculated_PCE_x', '473129_x'} in the result is deprecated and will raise a MergeError in a future version.\n",
      "  merged_df = pd.merge(merged_df, df, left_index=True, right_index=True, how=\"inner\")\n",
      "/var/folders/p_/9m627jw57n5f43krvf946rdw0000gn/T/ipykernel_53294/1864137732.py:12: FutureWarning: Passing 'suffixes' which cause duplicate columns {'calculated_PCE_x', '473129_x'} in the result is deprecated and will raise a MergeError in a future version.\n",
      "  merged_df = pd.merge(merged_df, df, left_index=True, right_index=True, how=\"inner\")\n"
     ]
    }
   ],
   "source": [
    "outliers_by_threshold = {}\n",
    "for threshold in [2, 3, 4, 5]:\n",
    "    common_outliers = get_common_outliers(threshold)\n",
    "    print(f\"Threshold: {threshold}\\t\\tCommon outliers: {len(common_outliers)}\")\n",
    "    outliers_by_threshold[threshold] = common_outliers\n",
    "    \n",
    "max_len = max([len(v) for v in outliers_by_threshold.values()])\n",
    "\n",
    "outliers_dict = {k: v + [None] * (max_len - len(v)) for k, v in outliers_by_threshold.items()}\n",
    "outliers_df = pd.DataFrame.from_dict(outliers_dict)\n",
    "print(outliers_df.head())"
   ],
   "metadata": {
    "collapsed": false,
    "ExecuteTime": {
     "end_time": "2023-12-18T23:08:29.375141Z",
     "start_time": "2023-12-18T23:08:29.177056Z"
    }
   },
   "id": "a8575cc499aa2b79"
  },
  {
   "cell_type": "code",
   "execution_count": 49,
   "outputs": [
    {
     "data": {
      "text/plain": "<AxesSubplot: xlabel='calculated_PCE_x', ylabel='Count'>"
     },
     "execution_count": 49,
     "metadata": {},
     "output_type": "execute_result"
    },
    {
     "data": {
      "text/plain": "<Figure size 640x480 with 1 Axes>",
      "image/png": "[encoded data removed]"
     },
     "metadata": {},
     "output_type": "display_data"
    }
   ],
   "source": [
    "sns.histplot(data=common_outliers, x=\"calculated_PCE_x\", bins=20)"
   ],
   "metadata": {
    "collapsed": false,
    "ExecuteTime": {
     "end_time": "2023-12-18T22:36:09.077704Z",
     "start_time": "2023-12-18T22:36:08.837438Z"
    }
   },
   "id": "e36f24b7934183b"
  },
  {
   "cell_type": "code",
   "execution_count": 95,
   "outputs": [
    {
     "data": {
      "text/plain": "<Figure size 640x480 with 1 Axes>",
      "image/png": "[encoded data removed]"
     },
     "metadata": {},
     "output_type": "display_data"
    }
   ],
   "source": [
    "import matplotlib.pyplot as plt\n",
    "\n",
    "plt.hist([outliers_df[2], outliers_df[3], outliers_df[4], outliers_df[5]], bins=16, label=[\"> ±2\", \"> ±3\", \"> ±4\", \"> ±5\"])\n",
    "plt.legend()\n",
    "# X-axis label\n",
    "plt.xlabel('PCE')\n",
    "# frequency label\n",
    "plt.ylabel('Count')\n",
    "plt.title('Common outliers by threshold')\n",
    "plt.show()"
   ],
   "metadata": {
    "collapsed": false,
    "ExecuteTime": {
     "end_time": "2023-12-18T23:10:03.371966Z",
     "start_time": "2023-12-18T23:10:03.083997Z"
    }
   },
   "id": "38585fc32904a2e0"
  },
  {
   "cell_type": "code",
   "execution_count": 100,
   "outputs": [
    {
     "data": {
      "text/plain": "0       3.841153\n1      13.178127\n2       3.121229\n3       2.279024\n4       4.936456\n         ...    \n121          NaN\n122          NaN\n123          NaN\n124          NaN\n125          NaN\nName: 4, Length: 126, dtype: float64"
     },
     "execution_count": 100,
     "metadata": {},
     "output_type": "execute_result"
    }
   ],
   "source": [
    "outliers_df[4]"
   ],
   "metadata": {
    "collapsed": false,
    "ExecuteTime": {
     "end_time": "2023-12-18T23:21:04.237739Z",
     "start_time": "2023-12-18T23:21:04.228751Z"
    }
   },
   "id": "591642081d4ee53a"
  },
  {
   "cell_type": "code",
   "execution_count": null,
   "outputs": [],
   "source": [],
   "metadata": {
    "collapsed": false
   },
   "id": "f4d90d1850aca186"
  }
 ],
 "metadata": {
  "kernelspec": {
   "display_name": "Python 3",
   "language": "python",
   "name": "python3"
  },
  "language_info": {
   "codemirror_mode": {
    "name": "ipython",
    "version": 2
   },
   "file_extension": ".py",
   "mimetype": "text/x-python",
   "name": "python",
   "nbconvert_exporter": "python",
   "pygments_lexer": "ipython2",
   "version": "2.7.6"
  }
 },
 "nbformat": 4,
 "nbformat_minor": 5
}
