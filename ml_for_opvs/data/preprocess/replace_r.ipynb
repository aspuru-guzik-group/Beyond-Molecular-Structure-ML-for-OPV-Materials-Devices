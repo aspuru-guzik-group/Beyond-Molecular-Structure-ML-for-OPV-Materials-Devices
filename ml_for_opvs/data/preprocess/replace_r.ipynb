{
 "cells": [
  {
   "cell_type": "code",
   "execution_count": 5,
   "metadata": {},
   "outputs": [
    {
     "name": "stdout",
     "output_type": "stream",
     "text": [
      "{'[Zr]': '[R1]', '[Nb]': '[R2]', '[Mo]': '[R3]', '[Tc]': '[R4]', '[Ru]': '[R5]', '[Rh]': '[R6]', '[Pd]': '[R7]', '[Ag]': '[R8]', '[Cd]': '[R9]', '[InH3]': '[R10]', '[SnH2]': '[R11]', '[SbH3]': '[R12]', '[TeH2]': '[R13]', 'I': '[R14]', '[Xe]': '[R15]', '[CsH]': '[R18]', '[BaH2]': '[R19]', '[La]': '[R20]', '[Ce]': '[R21]', '[Pr]': '[R23]', '[Nd]': '[R24]', '[Pm]': '[R25]', '[Sm]': '[R26]', '[Eu]': '[R27]', '[Gd]': '[R28]', '[Tb]': '[R29]'}\n",
      "Cc1cc2c(s1)c(c1ccc([Gd])s1)c1cc(c3sc(c4nnc(c5cc([Tb])c(C)s5)o4)cc3[Tb])sc1c2c1ccc([Gd])s1\n",
      "Cc1cc2c(s1)c(c1ccc([Gd])s1)c1cc(c3sc(c4nnc(c5cc([Tb])c(C)s5)o4)cc3[Tb])sc1c2c1ccc([Gd])s1\n"
     ]
    }
   ],
   "source": [
    "from rdkit import Chem\n",
    "from rdkit.Chem import AllChem\n",
    "import pkg_resources\n",
    "\n",
    "IMG_PATH = pkg_resources.resource_filename(\"ml_for_opvs\", \"ml_for_opvs/data/preprocess/replace_r.png\")\n",
    "\n",
    "patts = {\n",
    "            \"[R1]\": \"CC(CCCCCC)CCCCCCCC\",\n",
    "            \"[R2]\": \"CCCCCCCC\",\n",
    "            \"[R3]\": \"[Si](CCC)(CCC)(CCC)\",\n",
    "            \"[R4]\": \"CC(CC)CCCC\",\n",
    "            \"[R5]\": \"SCCCCCCCCCCCC\",\n",
    "            \"[R6]\": \"CC(CCCCCCCC)CCCCCCCCCC\",\n",
    "            \"[R7]\": \"SCC(CCCCCC)CCCC\",\n",
    "            \"[R8]\": \"[Si](CC)(CC)(CC)\",\n",
    "            \"[R9]\": \"[Si](C(C)C)(C(C)C)C(C)C\",\n",
    "            \"[R10]\": \"[Si](CCCC)(CCCC)(CCCC)\",\n",
    "            \"[R11]\": \"[Si](C)(C)CCCCCCCC\",\n",
    "            \"[R12]\": \"SCCCCC=C\",\n",
    "            \"[R13]\": \"SCC4CCCCC4\",\n",
    "            \"[R14]\": \"CCCCCC\",\n",
    "            \"[R15]\": \"CCCCCCCCCC\",\n",
    "            \"[R18]\": \"CCCCC\",\n",
    "            \"[R19]\": \"CCCCCCCCCCCCCCCC\",\n",
    "            \"[R20]\": \"CCCCCCCCCCC\",\n",
    "            \"[R21]\": \"C(CCCCCCCCC)CCCCCCC\",\n",
    "            \"[R23]\": \"CC(CCCCCCCCCCCC)CCCCCCCCCC\",\n",
    "            \"[R24]\": \"COCCOC\",\n",
    "            \"[R25]\": \"CC(CCCCCCCCCCC)CCCCCCCCC\",\n",
    "            \"[R26]\": \"CCC\",\n",
    "            \"[R27]\": \"CCCC\",\n",
    "            \"[R28]\": \"CCC(CC)CCCC\",\n",
    "            \"[R29]\": \"CCCC(CC)CCCC\",\n",
    "        }\n",
    "\n",
    "# New R group substitution pattern\n",
    "new_patts = {}\n",
    "atomic_num = 21\n",
    "for k, v in patts.items():\n",
    "    if atomic_num == 31:\n",
    "        atomic_num = 39\n",
    "    elif atomic_num == 49:\n",
    "        atomic_num = 57\n",
    "    elif atomic_num == 81:\n",
    "        atomic_num = 89\n",
    "    mol = Chem.MolFromSmarts(\"[#{}]\".format(atomic_num))\n",
    "    smi = Chem.MolToSmiles(mol)\n",
    "    new_patts[smi] = k\n",
    "    atomic_num += 1\n",
    "\n",
    "print(new_patts)\n",
    "\n",
    "smi = \"[Gd]c1sc(c2c3cc(C)sc3c(c4sc([Gd])cc4)c5cc(c6c([Tb])cc(c7oc(c8cc([Tb])c(C)s8)nn7)s6)sc52)cc1\"\n",
    "# Any R group in SMARTS turns into *\n",
    "mol = Chem.MolFromSmarts(smi)\n",
    "\n",
    "print(Chem.MolToSmiles(mol))\n",
    "# Sanitize SMARTS\n",
    "mol.UpdatePropertyCache()\n",
    "Chem.GetSymmSSSR(mol)\n",
    "mol.GetRingInfo().NumRings()\n",
    "\n",
    "for r in patts:\n",
    "    if r in smi:\n",
    "        products = AllChem.ReplaceSubstructs(mol, Chem.MolFromSmarts(r), Chem.MolFromSmarts(patts[r]), replaceAll=True)\n",
    "        mol = products[0]\n",
    "print(Chem.MolToSmiles(mol))\n",
    "\n",
    "# for r in patts:\n",
    "#     if r in smi:\n",
    "#         mol_patt = Chem.MolFromSmarts(patts[r])\n",
    "#         r_smart = r.strip(\"[]\")\n",
    "#         rxn = AllChem.ReactionFromSmarts('[{}:1].[#63:2]>>[C:1]-[C:2]'.format(r_smart))\n",
    "#         products = rxn.RunReactants([mol, mol_patt])\n",
    "#         for product in products:\n",
    "#             print(Chem.MolToSmiles(product[0]))"
   ]
  },
  {
   "cell_type": "code",
   "execution_count": 5,
   "metadata": {},
   "outputs": [
    {
     "name": "stdout",
     "output_type": "stream",
     "text": [
      "[Gd]\n"
     ]
    }
   ],
   "source": []
  }
 ],
 "metadata": {
  "kernelspec": {
   "display_name": "Python 3.10.4 ('ml_for_opvs')",
   "language": "python",
   "name": "python3"
  },
  "language_info": {
   "codemirror_mode": {
    "name": "ipython",
    "version": 3
   },
   "file_extension": ".py",
   "mimetype": "text/x-python",
   "name": "python",
   "nbconvert_exporter": "python",
   "pygments_lexer": "ipython3",
   "version": "3.10.4"
  },
  "orig_nbformat": 4,
  "vscode": {
   "interpreter": {
    "hash": "baa9b16de3acdf86a6324c6f58c8fd104d4379f4470912d9088544e620fc5d63"
   }
  }
 },
 "nbformat": 4,
 "nbformat_minor": 2
}
